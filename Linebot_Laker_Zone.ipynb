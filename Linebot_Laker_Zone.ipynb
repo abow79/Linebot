{
  "nbformat": 4,
  "nbformat_minor": 0,
  "metadata": {
    "colab": {
      "name": "Linebot-Laker Zone.ipynb",
      "provenance": [],
      "collapsed_sections": []
    },
    "kernelspec": {
      "name": "python3",
      "display_name": "Python 3"
    }
  },
  "cells": [
    {
      "cell_type": "code",
      "metadata": {
        "colab": {
          "base_uri": "https://localhost:8080/"
        },
        "id": "YY2k3E3WvN8N",
        "outputId": "b7297f98-daaf-43b2-a824-481821980922"
      },
      "source": [
        "from google.colab import drive\n",
        "drive.mount('/content/drive')"
      ],
      "execution_count": null,
      "outputs": [
        {
          "output_type": "stream",
          "text": [
            "Drive already mounted at /content/drive; to attempt to forcibly remount, call drive.mount(\"/content/drive\", force_remount=True).\n"
          ],
          "name": "stdout"
        }
      ]
    },
    {
      "cell_type": "code",
      "metadata": {
        "colab": {
          "base_uri": "https://localhost:8080/"
        },
        "id": "Xv8aZ5nojebf",
        "outputId": "2d38c24d-bb2e-4a4b-c579-c79b7aa33a48"
      },
      "source": [
        "!pip install flask line-bot-sdk flask-ngrok"
      ],
      "execution_count": null,
      "outputs": [
        {
          "output_type": "stream",
          "text": [
            "Requirement already satisfied: flask in /usr/local/lib/python3.6/dist-packages (1.1.2)\n",
            "Collecting line-bot-sdk\n",
            "\u001b[?25l  Downloading https://files.pythonhosted.org/packages/e4/14/f96a5b5f1f62daab4f4c1192c9a8cd5e4d094ebca6f5f3658781ab2077bc/line_bot_sdk-1.18.0-py2.py3-none-any.whl (66kB)\n",
            "\u001b[K     |████████████████████████████████| 71kB 3.2MB/s \n",
            "\u001b[?25hCollecting flask-ngrok\n",
            "  Downloading https://files.pythonhosted.org/packages/af/6c/f54cb686ad1129e27d125d182f90f52b32f284e6c8df58c1bae54fa1adbc/flask_ngrok-0.0.25-py3-none-any.whl\n",
            "Requirement already satisfied: Jinja2>=2.10.1 in /usr/local/lib/python3.6/dist-packages (from flask) (2.11.2)\n",
            "Requirement already satisfied: itsdangerous>=0.24 in /usr/local/lib/python3.6/dist-packages (from flask) (1.1.0)\n",
            "Requirement already satisfied: click>=5.1 in /usr/local/lib/python3.6/dist-packages (from flask) (7.1.2)\n",
            "Requirement already satisfied: Werkzeug>=0.15 in /usr/local/lib/python3.6/dist-packages (from flask) (1.0.1)\n",
            "Requirement already satisfied: future in /usr/local/lib/python3.6/dist-packages (from line-bot-sdk) (0.16.0)\n",
            "Requirement already satisfied: requests>=2.0 in /usr/local/lib/python3.6/dist-packages (from line-bot-sdk) (2.23.0)\n",
            "Requirement already satisfied: MarkupSafe>=0.23 in /usr/local/lib/python3.6/dist-packages (from Jinja2>=2.10.1->flask) (1.1.1)\n",
            "Requirement already satisfied: idna<3,>=2.5 in /usr/local/lib/python3.6/dist-packages (from requests>=2.0->line-bot-sdk) (2.10)\n",
            "Requirement already satisfied: chardet<4,>=3.0.2 in /usr/local/lib/python3.6/dist-packages (from requests>=2.0->line-bot-sdk) (3.0.4)\n",
            "Requirement already satisfied: urllib3!=1.25.0,!=1.25.1,<1.26,>=1.21.1 in /usr/local/lib/python3.6/dist-packages (from requests>=2.0->line-bot-sdk) (1.24.3)\n",
            "Requirement already satisfied: certifi>=2017.4.17 in /usr/local/lib/python3.6/dist-packages (from requests>=2.0->line-bot-sdk) (2020.12.5)\n",
            "Installing collected packages: line-bot-sdk, flask-ngrok\n",
            "Successfully installed flask-ngrok-0.0.25 line-bot-sdk-1.18.0\n"
          ],
          "name": "stdout"
        }
      ]
    },
    {
      "cell_type": "code",
      "metadata": {
        "id": "_QH1laz_K3zT"
      },
      "source": [
        "'''\n",
        "解壓縮模型\n",
        "'''\n",
        "from zipfile import ZipFile\n",
        "\n",
        "with ZipFile('converted_savedmodel.zip', 'r') as zipObj:\n",
        "   # Extract all the contents of zip file in different directory\n",
        "   zipObj.extractall('converted_savedmodel')"
      ],
      "execution_count": null,
      "outputs": []
    },
    {
      "cell_type": "code",
      "metadata": {
        "id": "sm6VVoibLWcn"
      },
      "source": [
        "'''\n",
        "載入類別列表\n",
        "'''\n",
        "class_dict = {}\n",
        "with open('converted_savedmodel/labels.txt') as f:\n",
        "    for line in f:\n",
        "       (key, val) = line.split()\n",
        "       class_dict[int(key)] = val"
      ],
      "execution_count": null,
      "outputs": []
    },
    {
      "cell_type": "code",
      "metadata": {
        "id": "cm2VolNezHJ-"
      },
      "source": [
        "from flask import Flask, request, abort\n",
        "\n",
        "from linebot import (\n",
        "    LineBotApi, WebhookHandler\n",
        ")\n",
        "from linebot.exceptions import (\n",
        "    InvalidSignatureError\n",
        ")\n",
        "from linebot.models import (\n",
        "    MessageEvent, TextMessage, TextSendMessage, FollowEvent,RichMenu,TemplateSendMessage,MessageTemplateAction\n",
        ")\n",
        "\n",
        "from flask_ngrok import run_with_ngrok\n",
        "\n",
        "from linebot.models.template import ConfirmTemplate\n",
        "\n",
        "import json\n",
        "\n",
        "\n",
        "# 設定Server啟用細節\n",
        "app = Flask(__name__,static_url_path = \"/material\" , static_folder = \"./material/\")\n",
        "run_with_ngrok(app)\n",
        "\n",
        "# 創建一個LineBotAPI\n",
        "# LineBotApi(channel_access_token)\n",
        "# 後續都會拿 line_bot_api 跟line溝通\n",
        "line_bot_api = LineBotApi(\"R2SYuUgAqgEqK9dcsFk+tpkXVek/6Uyz1u7QLuVheAUZ0cnOkStae7Prx1QpCbZ0LzAodMPpBHDTRms1b7x0UhTXpuwJwyC9XDLYSEgcwLU6GHUYBJ660hDj5WlnPRrXbcwCWlWzgGrkxqrN34h0MQdB04t89/1O/w1cDnyilFU=\")\n",
        "handler = WebhookHandler('c9329d4e3aa6586f7d287261523314c0')\n",
        "\n",
        "@app.route(\"/\", methods=['POST'])\n",
        "def callback():\n",
        "    # get X-Line-Signature header value\n",
        "    signature = request.headers['X-Line-Signature']\n",
        "\n",
        "    # get request body as text\n",
        "    body = request.get_data(as_text=True)\n",
        "    app.logger.info(\"Request body: \" + body)\n",
        "\n",
        "    # handle webhook body\n",
        "    try:\n",
        "        handler.handle(body, signature)\n",
        "    except InvalidSignatureError:\n",
        "        print(\"Invalid signature. Please check your channel access token/channel secret.\")\n",
        "        abort(400)\n",
        "\n",
        "    return 'OK'"
      ],
      "execution_count": null,
      "outputs": []
    },
    {
      "cell_type": "code",
      "metadata": {
        "id": "3ImMsZ43j_5f"
      },
      "source": [
        "@handler.add(FollowEvent)\n",
        "def process_follow_event(event):\n",
        "  # 取出消息內User的資料\n",
        "  user_profile=line_bot_api.get_profile(event.source.user_id)\n",
        "  with open(\"/content/drive/MyDrive/users.txt\", \"a\") as file:\n",
        "    file.write(json.dumps(vars(user_profile),sort_keys=True))\n",
        "    file.write('\\n')\n",
        "  # 回覆文字消息與圖片消息\n",
        "  # event.reply_token=收到這條訊息要回應的對象,event.reply_token是一次性的\n",
        "  line_bot_api.reply_message(\n",
        "      event.reply_token,\n",
        "      TextSendMessage(\"Hello,\"+user_profile.display_name+\"\\n歡迎來到Lakers Zone\")\n",
        "  )\n"
      ],
      "execution_count": null,
      "outputs": []
    },
    {
      "cell_type": "code",
      "metadata": {
        "colab": {
          "base_uri": "https://localhost:8080/"
        },
        "id": "g612-0PGS2Tt",
        "outputId": "73e8d1b9-b760-4365-8384-ac0bfcc5e612"
      },
      "source": [
        "\n",
        "#載入前面的圖文選單設定，\n",
        "#由於已經有json檔案所以用的是load()\n",
        "#並要求line_bot_api將圖文選單上傳至Line\n",
        "#最後會得到richmenu的Id\n",
        "with open('richmenu.json','r',encoding='utf8') as file:\n",
        "  richmenu_config=json.load(file)\n",
        "lineRichMenuId = line_bot_api.create_rich_menu(rich_menu=RichMenu.new_from_json_dict(richmenu_config))\n",
        "print(lineRichMenuId)"
      ],
      "execution_count": null,
      "outputs": [
        {
          "output_type": "stream",
          "text": [
            "richmenu-1c5df5b7f6a59d2bc81695d466580436\n"
          ],
          "name": "stdout"
        }
      ]
    },
    {
      "cell_type": "code",
      "metadata": {
        "id": "9fZLWjUHzH9i",
        "colab": {
          "base_uri": "https://localhost:8080/"
        },
        "outputId": "279218fe-86e5-47c2-e71f-210ffc556639"
      },
      "source": [
        "#將先前準備的菜單照片，以Post消息寄發給Line\n",
        "\n",
        "#    載入照片\n",
        "#    要求line_bot_api，將圖片傳到先前的圖文選單id\n",
        "uploadImage=open('/content/menupicture.png','rb')\n",
        "setImageResponse = line_bot_api.set_rich_menu_image(lineRichMenuId,'image/png',uploadImage)\n",
        "print(setImageResponse)"
      ],
      "execution_count": null,
      "outputs": [
        {
          "output_type": "stream",
          "text": [
            "None\n"
          ],
          "name": "stdout"
        }
      ]
    },
    {
      "cell_type": "code",
      "metadata": {
        "id": "5Xyjpbl00jAw",
        "colab": {
          "base_uri": "https://localhost:8080/"
        },
        "outputId": "70c6dc0d-65ab-482b-8d69-12ddb81b33d4"
      },
      "source": [
        "with open(\"/content/drive/MyDrive/users.txt\",\"r\",encoding=\"utf8\") as file:\n",
        "  for x in file.readlines():\n",
        "    user_info=json.loads(x)\n",
        "userid=user_info[\"user_id\"]\n",
        "#  x=file.read()\n",
        "#user_info=json.loads(x)\n",
        "linkResult=line_bot_api.link_rich_menu_to_user( userid, lineRichMenuId)\n",
        "print(linkResult)"
      ],
      "execution_count": null,
      "outputs": [
        {
          "output_type": "stream",
          "text": [
            "None\n"
          ],
          "name": "stdout"
        }
      ]
    },
    {
      "cell_type": "code",
      "metadata": {
        "id": "t6dqmwi_2DXM"
      },
      "source": [
        "#用戶發出文字消息時， 按條件內容, 回傳文字消息\n",
        "#當handler(總機)收到訊息事件(MessageEvent)且為TextMessage時就做下面的方法\n",
        "#get()函数返回指定键的值\n",
        "#find()如果找不到會回傳\n",
        "@handler.add(MessageEvent,message=TextMessage)\n",
        "def process_message_event(event):\n",
        "  reply_arr=[]\n",
        "  reply_arr.append(TextSendMessage(\"請不要罵髒話\"))\n",
        "  reply_arr.append(TextSendMessage(\"我把你的選單解除掉了\\n請離開!~\"))\n",
        "  textmessage=event.message.text\n",
        "  if( '幹' in textmessage!=False or 'Fuck' in textmessage!=False):\n",
        "      line_bot_api.reply_message(\n",
        "        event.reply_token,\n",
        "        reply_arr\n",
        "      )\n",
        "      lineUnregisterUserMenuResponse=line_bot_api.unlink_rich_menu_from_user(userid)\n",
        "  elif textmessage==\"球員圖像辨識\":\n",
        "    Confirm_template = TemplateSendMessage(\n",
        "        alt_text='目錄 template',\n",
        "        template=ConfirmTemplate(\n",
        "            title='這是ConfirmTemplate',\n",
        "            text='您確定要執行球員影像辨識嗎？',\n",
        "            actions=[                              \n",
        "                MessageTemplateAction(\n",
        "                    label='是',\n",
        "                    text='是我要執行'\n",
        "                ),\n",
        "                MessageTemplateAction(\n",
        "                    label='否',\n",
        "                    text='否我不要執行'\n",
        "                )\n",
        "            ]\n",
        "        )\n",
        "    )\n",
        "    line_bot_api.reply_message(event.reply_token,Confirm_template)\n",
        "  elif '對不起' in textmessage!=False:\n",
        "     line_bot_api.reply_message(\n",
        "        event.reply_token,\n",
        "        TextSendMessage(\"好吧!我考慮看看\")\n",
        "      )\n",
        "\n"
      ],
      "execution_count": null,
      "outputs": []
    },
    {
      "cell_type": "code",
      "metadata": {
        "id": "tE_45pfUP6Ej"
      },
      "source": [
        "'''\n",
        "\n",
        "圖片消息，解析圖片\n",
        "\n",
        "'''\n",
        "\n",
        "import tensorflow.keras\n",
        "from PIL import Image, ImageOps\n",
        "import numpy as np\n",
        "\n",
        "# 引用套件\n",
        "from linebot.models import (\n",
        "    MessageEvent,ImageMessage,TextSendMessage\n",
        ")\n",
        "\n",
        "# Disable scientific notation for clarity\n",
        "np.set_printoptions(suppress=True)\n",
        "\n",
        "# Load the model\n",
        "model = tensorflow.keras.models.load_model('converted_savedmodel/model.savedmodel',compile=False)\n",
        "\n",
        "import time\n",
        "\n",
        "@handler.add(MessageEvent, message=ImageMessage)\n",
        "def handle_message(event):\n",
        "\n",
        "    print(time.asctime( time.localtime(time.time()) ))\n",
        "\n",
        "    message_content = line_bot_api.get_message_content(event.message.id)\n",
        "    file_name = event.message.id+'.jpg'\n",
        "    with open(file_name, 'wb') as fd:\n",
        "        for chunk in message_content.iter_content():\n",
        "            fd.write(chunk)\n",
        "\n",
        "    print(time.asctime( time.localtime(time.time()) ))\n",
        "\n",
        "    data = np.ndarray(shape=(1, 224, 224, 3), dtype=np.float32)\n",
        "\n",
        "    # Replace this with the path to your image\n",
        "    image = Image.open(file_name)\n",
        "\n",
        "    #resize the image to a 224x224 with the same strategy as in TM2:\n",
        "    #resizing the image to be at least 224x224 and then cropping from the center\n",
        "    size = (224, 224)\n",
        "    image = ImageOps.fit(image, size, Image.ANTIALIAS)\n",
        "\n",
        "    print(time.asctime( time.localtime(time.time()) ))\n",
        "    \n",
        "    #turn the image into a numpy array\n",
        "    image_array = np.asarray(image)\n",
        "\n",
        "    # display the resized image\n",
        "    image.show()\n",
        "\n",
        "    \n",
        "    # Normalize the image\n",
        "    normalized_image_array = (image_array.astype(np.float32) / 127.0 - 1 )\n",
        "\n",
        "    # Load the image into the array\n",
        "    data = np.ndarray(shape=(1, 224, 224, 3), dtype=np.float32)\n",
        "    data[0]= normalized_image_array[0:224,0:224,0:3]\n",
        "\n",
        "    # run the inference\n",
        "    prediction = model.predict(data)\n",
        "\n",
        "    print(time.asctime( time.localtime(time.time()) ))\n",
        "\n",
        "    max_probability_item_index = np.argmax(prediction[0])\n",
        "\n",
        "    if prediction.max() > 0.9997:\n",
        "        line_bot_api.reply_message(\n",
        "          event.reply_token,\n",
        "          TextSendMessage(\n",
        "          \"\"\"這個照片應該是 %s ，其相似機率為 %s \"\"\" %(class_dict.get(max_probability_item_index), prediction[0][max_probability_item_index])\n",
        "          )\n",
        "        )\n",
        "    else :\n",
        "      line_bot_api.reply_message(\n",
        "        event.reply_token,\n",
        "        TextSendMessage(\n",
        "        \"\"\"這張照片既不是Lebron也不是Davis!\"\"\"\n",
        "        )\n",
        "      )"
      ],
      "execution_count": null,
      "outputs": []
    },
    {
      "cell_type": "code",
      "metadata": {
        "id": "J6E1_0mlxxQp",
        "colab": {
          "base_uri": "https://localhost:8080/"
        },
        "outputId": "f5b4272c-e890-4815-a899-0021e7a50ae6"
      },
      "source": [
        "app.run()"
      ],
      "execution_count": null,
      "outputs": [
        {
          "output_type": "stream",
          "text": [
            " * Serving Flask app \"__main__\" (lazy loading)\n",
            " * Environment: production\n",
            "\u001b[31m   WARNING: This is a development server. Do not use it in a production deployment.\u001b[0m\n",
            "\u001b[2m   Use a production WSGI server instead.\u001b[0m\n",
            " * Debug mode: off\n"
          ],
          "name": "stdout"
        },
        {
          "output_type": "stream",
          "text": [
            " * Running on http://127.0.0.1:5000/ (Press CTRL+C to quit)\n"
          ],
          "name": "stderr"
        },
        {
          "output_type": "stream",
          "text": [
            " * Running on http://d42d9c18ab24.ngrok.io\n",
            " * Traffic stats available on http://127.0.0.1:4040\n"
          ],
          "name": "stdout"
        }
      ]
    }
  ]
}